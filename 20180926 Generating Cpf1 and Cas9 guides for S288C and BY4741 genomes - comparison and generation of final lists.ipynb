{
 "cells": [
  {
   "cell_type": "code",
   "execution_count": 1,
   "metadata": {},
   "outputs": [],
   "source": [
    "from Bio.Seq import Seq\n",
    "from Bio.Alphabet import IUPAC\n",
    "from Bio import SeqIO\n",
    "from Bio.Seq import reverse_complement\n",
    "import pandas as pd\n",
    "import numpy\n",
    "\n",
    "def find_all(a_str, sub): #custom find all function from stack overflow - lists all instances of particular search function\n",
    "    start = 0\n",
    "    while True:\n",
    "        start = a_str.find(sub, start)\n",
    "        if start == -1: return\n",
    "        yield start\n",
    "        start += 1 # use start += len(sub) to find non-overlapping matches"
   ]
  },
  {
   "cell_type": "code",
   "execution_count": 2,
   "metadata": {},
   "outputs": [
    {
     "name": "stdout",
     "output_type": "stream",
     "text": [
      "I\n",
      "5383\n",
      "5321\n",
      "II\n",
      "20068\n",
      "19790\n",
      "III\n",
      "7300\n",
      "7785\n",
      "IV\n",
      "38022\n",
      "38169\n",
      "V\n",
      "14091\n",
      "13764\n",
      "VI\n",
      "6371\n",
      "6476\n",
      "VII\n",
      "26911\n",
      "26778\n",
      "VIII\n",
      "13508\n",
      "13843\n",
      "IX\n",
      "10585\n",
      "10613\n",
      "X\n",
      "17842\n",
      "18389\n",
      "XI\n",
      "16533\n",
      "16453\n",
      "XII\n",
      "26337\n",
      "26025\n",
      "XIII\n",
      "22727\n",
      "22732\n",
      "XIV\n",
      "18883\n",
      "19051\n",
      "XV\n",
      "26583\n",
      "27107\n",
      "XVI\n",
      "23460\n",
      "23535\n",
      "I\n",
      "9432\n",
      "9215\n",
      "II\n",
      "31491\n",
      "32146\n",
      "III\n",
      "12163\n",
      "12935\n",
      "IV\n",
      "58377\n",
      "58367\n",
      "V\n",
      "23057\n",
      "22255\n",
      "VI\n",
      "10730\n",
      "10704\n",
      "VII\n",
      "41969\n",
      "42275\n",
      "VIII\n",
      "21851\n",
      "22358\n",
      "IX\n",
      "17558\n",
      "17652\n",
      "X\n",
      "29200\n",
      "28585\n",
      "XI\n",
      "25172\n",
      "26125\n",
      "XII\n",
      "41968\n",
      "42688\n",
      "XIII\n",
      "35932\n",
      "36152\n",
      "XIV\n",
      "30948\n",
      "31003\n",
      "XV\n",
      "42033\n",
      "42579\n",
      "XVI\n",
      "36425\n",
      "36628\n"
     ]
    }
   ],
   "source": [
    "#Generating Cpf1 and Cas9 guides from S288C\n",
    "seq = SeqIO.parse(\"S288C_reference_sequence_R64-2-1_20150113.fsa\", \"fasta\") #read input fasta\n",
    "with open(\"20180926_S288C_Cpf1.tsv\", \"w\") as record_file:\n",
    "    record_file.write(\"Chromosome\\tSequence\\tPAM\\tStrand\\tStart\\tEnd\\n\")\n",
    "    for seqrecord in seq:\n",
    "        chromosome = seqrecord.description.split(\"chromosome=\",1)[1][:-1]\n",
    "        print(chromosome)\n",
    "        chr_string = str(seqrecord.seq)\n",
    "        chr_string_rev = reverse_complement(chr_string)\n",
    "        TopStrand_PAMs = list(find_all(chr_string, 'TTTA')) + list(find_all(chr_string, 'TTTG')) + list(find_all(chr_string, 'TTTC'))\n",
    "        BottomStrand_PAMs = list(find_all(chr_string_rev, 'TTTA')) + list(find_all(chr_string_rev, 'TTTG')) + list(find_all(chr_string_rev, 'TTTC'))\n",
    "        x = len(TopStrand_PAMs) \n",
    "        y = len(BottomStrand_PAMs)\n",
    "        for i in TopStrand_PAMs:\n",
    "          record_file.write(chromosome+\"\\t\"+chr_string[(i+4):(i+27)]+\"\\t\"+chr_string[i:(i+4)]+\"\\t+\\t\"+str(i+4)+\"\\t\"+str(i+27)+\"\\n\")\n",
    "\n",
    "        for i in BottomStrand_PAMs:\n",
    "          record_file.write(chromosome+\"\\t\"+chr_string_rev[(i+4):(i+27)]+\"\\t\"+chr_string_rev[i:(i+4)]+\"\\t-\\t\"+str(len(chr_string_rev)-(i+4))+\"\\t\"+str(len(chr_string_rev)-(i+27))+\"\\n\")\n",
    "        print (x) \n",
    "        print (y)\n",
    "\n",
    "\n",
    "seq = SeqIO.parse(\"S288C_reference_sequence_R64-2-1_20150113.fsa\", \"fasta\") #read input fasta\n",
    "with open(\"20180926_S288C_Cas9.tsv\", \"w\") as record_file:\n",
    "    record_file.write(\"Chromosome\\tSequence\\tPAM\\tStrand\\tStart\\tEnd\\n\")\n",
    "    for seqrecord in seq:\n",
    "        chromosome = seqrecord.description.split(\"chromosome=\",1)[1][:-1]\n",
    "        print(chromosome)\n",
    "        chr_string = str(seqrecord.seq)\n",
    "        chr_string_rev = reverse_complement(chr_string)\n",
    "        TopStrand_PAMs = list(find_all(chr_string, 'AGG')) + list(find_all(chr_string, 'TGG')) + list(find_all(chr_string, 'CGG')) + list(find_all(chr_string, 'GGG'))\n",
    "        BottomStrand_PAMs = list(find_all(chr_string_rev, 'AGG')) + list(find_all(chr_string_rev, 'TGG')) + list(find_all(chr_string_rev, 'CGG')) + list(find_all(chr_string_rev, 'GGG'))\n",
    "        x = len(TopStrand_PAMs) \n",
    "        y = len(BottomStrand_PAMs)\n",
    "        for i in TopStrand_PAMs:\n",
    "          record_file.write(chromosome+\"\\t\"+chr_string[(i-20):i]+\"\\t\"+chr_string[i:(i+3)]+\"\\t+\\t\"+str(i-20)+\"\\t\"+str(i)+\"\\n\")\n",
    "\n",
    "        for i in BottomStrand_PAMs:\n",
    "          record_file.write(chromosome+\"\\t\"+chr_string_rev[(i-20):i]+\"\\t\"+chr_string_rev[i:(i+3)]+\"\\t-\\t\"+str(len(chr_string_rev)-(i-20))+\"\\t\"+str(len(chr_string_rev)-(i))+\"\\n\")\n",
    "        print (x) \n",
    "        print (y)"
   ]
  },
  {
   "cell_type": "code",
   "execution_count": 4,
   "metadata": {},
   "outputs": [
    {
     "name": "stdout",
     "output_type": "stream",
     "text": [
      "I\n",
      "5383\n",
      "5321\n",
      "II\n",
      "20069\n",
      "19789\n",
      "III\n",
      "7118\n",
      "7489\n",
      "IV\n",
      "38021\n",
      "38169\n",
      "V\n",
      "14072\n",
      "13739\n",
      "VI\n",
      "6371\n",
      "6476\n",
      "VII\n",
      "26911\n",
      "26779\n",
      "VIII\n",
      "13510\n",
      "13843\n",
      "IX\n",
      "10585\n",
      "10613\n",
      "X\n",
      "17842\n",
      "18390\n",
      "XI\n",
      "16533\n",
      "16453\n",
      "XII\n",
      "26285\n",
      "25966\n",
      "XIII\n",
      "22727\n",
      "22733\n",
      "XIV\n",
      "18883\n",
      "19051\n",
      "XV\n",
      "26577\n",
      "27102\n",
      "XVI\n",
      "23458\n",
      "23535\n",
      "I\n",
      "9432\n",
      "9215\n",
      "II\n",
      "31492\n",
      "32145\n",
      "III\n",
      "11862\n",
      "12535\n",
      "IV\n",
      "58377\n",
      "58369\n",
      "V\n",
      "22990\n",
      "22228\n",
      "VI\n",
      "10730\n",
      "10704\n",
      "VII\n",
      "41969\n",
      "42275\n",
      "VIII\n",
      "21851\n",
      "22356\n",
      "IX\n",
      "17558\n",
      "17652\n",
      "X\n",
      "29200\n",
      "28586\n",
      "XI\n",
      "25172\n",
      "26126\n",
      "XII\n",
      "41879\n",
      "42589\n",
      "XIII\n",
      "35932\n",
      "36152\n",
      "XIV\n",
      "30948\n",
      "31003\n",
      "XV\n",
      "42017\n",
      "42570\n",
      "XVI\n",
      "36427\n",
      "36628\n"
     ]
    }
   ],
   "source": [
    "#Generating Cpf1 and Cas9 guides from BY4741\n",
    "seq = SeqIO.parse(\"BY4741.fa\", \"fasta\") #read input fasta\n",
    "with open(\"20180926_BY4741_Cpf1.tsv\", \"w\") as record_file:\n",
    "    record_file.write(\"Chromosome\\tSequence\\tPAM\\tStrand\\tStart\\tEnd\\n\")\n",
    "    for seqrecord in seq:\n",
    "        chromosome = seqrecord.description.split(\"chromosome=\",1)[1][:-1]\n",
    "        print(chromosome)\n",
    "        chr_string = str(seqrecord.seq)\n",
    "        chr_string_rev = reverse_complement(chr_string)\n",
    "        TopStrand_PAMs = list(find_all(chr_string, 'TTTA')) + list(find_all(chr_string, 'TTTG')) + list(find_all(chr_string, 'TTTC'))\n",
    "        BottomStrand_PAMs = list(find_all(chr_string_rev, 'TTTA')) + list(find_all(chr_string_rev, 'TTTG')) + list(find_all(chr_string_rev, 'TTTC'))\n",
    "        x = len(TopStrand_PAMs) \n",
    "        y = len(BottomStrand_PAMs)\n",
    "        for i in TopStrand_PAMs:\n",
    "          record_file.write(chromosome+\"\\t\"+chr_string[(i+4):(i+27)]+\"\\t\"+chr_string[i:(i+4)]+\"\\t+\\t\"+str(i+4)+\"\\t\"+str(i+27)+\"\\n\")\n",
    "\n",
    "        for i in BottomStrand_PAMs:\n",
    "          record_file.write(chromosome+\"\\t\"+chr_string_rev[(i+4):(i+27)]+\"\\t\"+chr_string_rev[i:(i+4)]+\"\\t-\\t\"+str(len(chr_string_rev)-(i+4))+\"\\t\"+str(len(chr_string_rev)-(i+27))+\"\\n\")\n",
    "        print (x) \n",
    "        print (y)\n",
    "\n",
    "\n",
    "seq = SeqIO.parse(\"BY4741.fa\", \"fasta\") #read input fasta\n",
    "with open(\"20180926_BY4741_Cas9.tsv\", \"w\") as record_file:\n",
    "    record_file.write(\"Chromosome\\tSequence\\tPAM\\tStrand\\tStart\\tEnd\\n\")\n",
    "    for seqrecord in seq:\n",
    "        chromosome = seqrecord.description.split(\"chromosome=\",1)[1][:-1]\n",
    "        print(chromosome)\n",
    "        chr_string = str(seqrecord.seq)\n",
    "        chr_string_rev = reverse_complement(chr_string)\n",
    "        TopStrand_PAMs = list(find_all(chr_string, 'AGG')) + list(find_all(chr_string, 'TGG')) + list(find_all(chr_string, 'CGG')) + list(find_all(chr_string, 'GGG'))\n",
    "        BottomStrand_PAMs = list(find_all(chr_string_rev, 'AGG')) + list(find_all(chr_string_rev, 'TGG')) + list(find_all(chr_string_rev, 'CGG')) + list(find_all(chr_string_rev, 'GGG'))\n",
    "        x = len(TopStrand_PAMs) \n",
    "        y = len(BottomStrand_PAMs)\n",
    "        for i in TopStrand_PAMs:\n",
    "          record_file.write(chromosome+\"\\t\"+chr_string[(i-20):i]+\"\\t\"+chr_string[i:(i+3)]+\"\\t+\\t\"+str(i-20)+\"\\t\"+str(i)+\"\\n\")\n",
    "\n",
    "        for i in BottomStrand_PAMs:\n",
    "          record_file.write(chromosome+\"\\t\"+chr_string_rev[(i-20):i]+\"\\t\"+chr_string_rev[i:(i+3)]+\"\\t-\\t\"+str(len(chr_string_rev)-(i-20))+\"\\t\"+str(len(chr_string_rev)-(i))+\"\\n\")\n",
    "        print (x) \n",
    "        print (y)"
   ]
  },
  {
   "cell_type": "code",
   "execution_count": 6,
   "metadata": {},
   "outputs": [
    {
     "name": "stdout",
     "output_type": "stream",
     "text": [
      "(590435, 6)\n",
      "(939973, 6)\n",
      "(590435, 6)\n",
      "(939972, 6)\n"
     ]
    }
   ],
   "source": [
    "df_cpf1_S288C=pd.read_csv('20180926_S288C_Cpf1.tsv',delimiter='\\t',header=0)\n",
    "df_cas9_S288C=pd.read_csv('20180926_S288C_Cas9.tsv',delimiter='\\t',header=0)\n",
    "print(df_cpf1_S288C.shape)\n",
    "print(df_cas9_S288C.shape)\n",
    "df_cpf1_S288C = df_cpf1_S288C.dropna() #dropping empty rows, messes up later steps \n",
    "df_cas9_S288C = df_cas9_S288C.dropna() #dropping empty rows, messes up later steps\n",
    "print(df_cpf1_S288C.shape)\n",
    "print(df_cas9_S288C.shape)"
   ]
  },
  {
   "cell_type": "code",
   "execution_count": 7,
   "metadata": {},
   "outputs": [
    {
     "name": "stdout",
     "output_type": "stream",
     "text": [
      "(589793, 6)\n",
      "(938969, 6)\n",
      "(589793, 6)\n",
      "(938968, 6)\n"
     ]
    }
   ],
   "source": [
    "df_cpf1_BY4741=pd.read_csv('20180926_BY4741_Cpf1.tsv',delimiter='\\t',header=0)\n",
    "df_cas9_BY4741=pd.read_csv('20180926_BY4741_Cas9.tsv',delimiter='\\t',header=0)\n",
    "print(df_cpf1_BY4741.shape)\n",
    "print(df_cas9_BY4741.shape)\n",
    "df_cpf1_BY4741 = df_cpf1_BY4741.dropna() #dropping empty rows, messes up later steps \n",
    "df_cas9_BY4741 = df_cas9_BY4741.dropna() #dropping empty rows, messes up later steps\n",
    "print(df_cpf1_BY4741.shape)\n",
    "print(df_cas9_BY4741.shape)"
   ]
  },
  {
   "cell_type": "code",
   "execution_count": 8,
   "metadata": {},
   "outputs": [
    {
     "data": {
      "text/plain": [
       "-642"
      ]
     },
     "execution_count": 8,
     "metadata": {},
     "output_type": "execute_result"
    }
   ],
   "source": [
    "589793-590435"
   ]
  },
  {
   "cell_type": "code",
   "execution_count": 9,
   "metadata": {},
   "outputs": [
    {
     "data": {
      "text/plain": [
       "-1004"
      ]
     },
     "execution_count": 9,
     "metadata": {},
     "output_type": "execute_result"
    }
   ],
   "source": [
    "938968-939972"
   ]
  },
  {
   "cell_type": "code",
   "execution_count": 10,
   "metadata": {},
   "outputs": [
    {
     "name": "stdout",
     "output_type": "stream",
     "text": [
      "(557711, 6)\n",
      "(873424, 6)\n"
     ]
    }
   ],
   "source": [
    "#generating list of unique guides from Cpf1 and Cas9 from S288C based only on sequence of the guide not guide + PAM\n",
    "df_cpf1_S288C_drop = df_cpf1_S288C.drop_duplicates(subset='Sequence',keep=False)\n",
    "df_cas9_S288C_drop = df_cas9_S288C.drop_duplicates(subset='Sequence',keep=False)\n",
    "print(df_cpf1_S288C_drop.shape)\n",
    "print(df_cas9_S288C_drop.shape)"
   ]
  },
  {
   "cell_type": "code",
   "execution_count": 11,
   "metadata": {},
   "outputs": [
    {
     "name": "stdout",
     "output_type": "stream",
     "text": [
      "(557347, 6)\n",
      "(872831, 6)\n"
     ]
    }
   ],
   "source": [
    "#generating list of unique guides from Cpf1 and Cas9 from BY4741 based only on sequence the guide not guide+PAM\n",
    "df_cpf1_BY4741_drop = df_cpf1_BY4741.drop_duplicates(subset='Sequence',keep=False)\n",
    "df_cas9_BY4741_drop = df_cas9_BY4741.drop_duplicates(subset='Sequence',keep=False)\n",
    "print(df_cpf1_BY4741_drop.shape)\n",
    "print(df_cas9_BY4741_drop.shape)"
   ]
  },
  {
   "cell_type": "code",
   "execution_count": 12,
   "metadata": {},
   "outputs": [
    {
     "data": {
      "text/plain": [
       "-364"
      ]
     },
     "execution_count": 12,
     "metadata": {},
     "output_type": "execute_result"
    }
   ],
   "source": [
    "557347-557711"
   ]
  },
  {
   "cell_type": "code",
   "execution_count": 13,
   "metadata": {},
   "outputs": [
    {
     "data": {
      "text/plain": [
       "-593"
      ]
     },
     "execution_count": 13,
     "metadata": {},
     "output_type": "execute_result"
    }
   ],
   "source": [
    "872831-873424"
   ]
  },
  {
   "cell_type": "code",
   "execution_count": 32,
   "metadata": {},
   "outputs": [
    {
     "name": "stdout",
     "output_type": "stream",
     "text": [
      "(557182, 11)\n"
     ]
    },
    {
     "data": {
      "text/plain": [
       "(557182, 11)"
      ]
     },
     "execution_count": 32,
     "metadata": {},
     "output_type": "execute_result"
    }
   ],
   "source": [
    "mergedStuff = pd.merge(df_cpf1_S288C_drop, df_cpf1_BY4741_drop, on=['Sequence'], how='inner')\n",
    "print(mergedStuff.shape)\n",
    "mergedStuff.dropna\n",
    "mergedStuff.shape"
   ]
  },
  {
   "cell_type": "code",
   "execution_count": 34,
   "metadata": {},
   "outputs": [
    {
     "name": "stderr",
     "output_type": "stream",
     "text": [
      "/anaconda2/lib/python2.7/site-packages/ipykernel_launcher.py:1: DeprecationWarning: elementwise == comparison failed; this will raise an error in the future.\n",
      "  \"\"\"Entry point for launching an IPython kernel.\n"
     ]
    },
    {
     "ename": "ValueError",
     "evalue": "Array conditional must be same shape as self",
     "output_type": "error",
     "traceback": [
      "\u001b[0;31m---------------------------------------------------------------------------\u001b[0m",
      "\u001b[0;31mValueError\u001b[0m                                Traceback (most recent call last)",
      "\u001b[0;32m<ipython-input-34-549bea4738fe>\u001b[0m in \u001b[0;36m<module>\u001b[0;34m()\u001b[0m\n\u001b[0;32m----> 1\u001b[0;31m \u001b[0mstuff\u001b[0m \u001b[0;34m=\u001b[0m \u001b[0mdf_cpf1_S288C_drop\u001b[0m\u001b[0;34m.\u001b[0m\u001b[0mwhere\u001b[0m\u001b[0;34m(\u001b[0m\u001b[0mdf_cpf1_S288C_drop\u001b[0m\u001b[0;34m.\u001b[0m\u001b[0mvalues\u001b[0m\u001b[0;34m==\u001b[0m\u001b[0mdf_cas9_BY4741_drop\u001b[0m\u001b[0;34m.\u001b[0m\u001b[0mvalues\u001b[0m\u001b[0;34m)\u001b[0m\u001b[0;34m\u001b[0m\u001b[0m\n\u001b[0m\u001b[1;32m      2\u001b[0m \u001b[0mstuff\u001b[0m\u001b[0;34m\u001b[0m\u001b[0m\n",
      "\u001b[0;32m/anaconda2/lib/python2.7/site-packages/pandas/core/generic.pyc\u001b[0m in \u001b[0;36mwhere\u001b[0;34m(self, cond, other, inplace, axis, level, errors, try_cast, raise_on_error)\u001b[0m\n\u001b[1;32m   7764\u001b[0m         \u001b[0mother\u001b[0m \u001b[0;34m=\u001b[0m \u001b[0mcom\u001b[0m\u001b[0;34m.\u001b[0m\u001b[0m_apply_if_callable\u001b[0m\u001b[0;34m(\u001b[0m\u001b[0mother\u001b[0m\u001b[0;34m,\u001b[0m \u001b[0mself\u001b[0m\u001b[0;34m)\u001b[0m\u001b[0;34m\u001b[0m\u001b[0m\n\u001b[1;32m   7765\u001b[0m         return self._where(cond, other, inplace, axis, level,\n\u001b[0;32m-> 7766\u001b[0;31m                            errors=errors, try_cast=try_cast)\n\u001b[0m\u001b[1;32m   7767\u001b[0m \u001b[0;34m\u001b[0m\u001b[0m\n\u001b[1;32m   7768\u001b[0m     @Appender(_shared_docs['where'] % dict(_shared_doc_kwargs, cond=\"False\",\n",
      "\u001b[0;32m/anaconda2/lib/python2.7/site-packages/pandas/core/generic.pyc\u001b[0m in \u001b[0;36m_where\u001b[0;34m(self, cond, other, inplace, axis, level, errors, try_cast)\u001b[0m\n\u001b[1;32m   7508\u001b[0m                 \u001b[0mcond\u001b[0m \u001b[0;34m=\u001b[0m \u001b[0mnp\u001b[0m\u001b[0;34m.\u001b[0m\u001b[0masanyarray\u001b[0m\u001b[0;34m(\u001b[0m\u001b[0mcond\u001b[0m\u001b[0;34m)\u001b[0m\u001b[0;34m\u001b[0m\u001b[0m\n\u001b[1;32m   7509\u001b[0m             \u001b[0;32mif\u001b[0m \u001b[0mcond\u001b[0m\u001b[0;34m.\u001b[0m\u001b[0mshape\u001b[0m \u001b[0;34m!=\u001b[0m \u001b[0mself\u001b[0m\u001b[0;34m.\u001b[0m\u001b[0mshape\u001b[0m\u001b[0;34m:\u001b[0m\u001b[0;34m\u001b[0m\u001b[0m\n\u001b[0;32m-> 7510\u001b[0;31m                 raise ValueError('Array conditional must be same shape as '\n\u001b[0m\u001b[1;32m   7511\u001b[0m                                  'self')\n\u001b[1;32m   7512\u001b[0m             \u001b[0mcond\u001b[0m \u001b[0;34m=\u001b[0m \u001b[0mself\u001b[0m\u001b[0;34m.\u001b[0m\u001b[0m_constructor\u001b[0m\u001b[0;34m(\u001b[0m\u001b[0mcond\u001b[0m\u001b[0;34m,\u001b[0m \u001b[0;34m**\u001b[0m\u001b[0mself\u001b[0m\u001b[0;34m.\u001b[0m\u001b[0m_construct_axes_dict\u001b[0m\u001b[0;34m(\u001b[0m\u001b[0;34m)\u001b[0m\u001b[0;34m)\u001b[0m\u001b[0;34m\u001b[0m\u001b[0m\n",
      "\u001b[0;31mValueError\u001b[0m: Array conditional must be same shape as self"
     ]
    }
   ],
   "source": [
    "stuff = df_cpf1_S288C_drop.where(df_cpf1_S288C_drop.values==df_cas9_BY4741_drop.values)\n",
    "stuff"
   ]
  },
  {
   "cell_type": "code",
   "execution_count": null,
   "metadata": {},
   "outputs": [],
   "source": []
  }
 ],
 "metadata": {
  "kernelspec": {
   "display_name": "Python 3",
   "language": "python",
   "name": "python3"
  },
  "language_info": {
   "codemirror_mode": {
    "name": "ipython",
    "version": 3
   },
   "file_extension": ".py",
   "mimetype": "text/x-python",
   "name": "python",
   "nbconvert_exporter": "python",
   "pygments_lexer": "ipython3",
   "version": "3.8.5"
  }
 },
 "nbformat": 4,
 "nbformat_minor": 2
}
